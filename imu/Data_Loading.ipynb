{
 "cells": [
  {
   "cell_type": "code",
   "execution_count": 2,
   "metadata": {},
   "outputs": [],
   "source": [
    "from scipy import io\n",
    "imuRaw = io.loadmat(\"imuRaw1.mat\")"
   ]
  },
  {
   "cell_type": "code",
   "execution_count": 3,
   "metadata": {},
   "outputs": [
    {
     "data": {
      "text/plain": [
       "{'__globals__': [],\n",
       " '__header__': b'MATLAB 5.0 MAT-file, Platform: GLNXA64, Created on: Wed Feb  2 12:53:30 2011',\n",
       " '__version__': '1.0',\n",
       " 'ts': array([[1.29663678e+09, 1.29663678e+09, 1.29663678e+09, ...,\n",
       "         1.29663684e+09, 1.29663684e+09, 1.29663684e+09]]),\n",
       " 'vals': array([[511, 511, 511, ..., 511, 511, 511],\n",
       "        [501, 501, 501, ..., 500, 500, 500],\n",
       "        [605, 605, 606, ..., 605, 605, 606],\n",
       "        [370, 369, 370, ..., 369, 369, 369],\n",
       "        [374, 373, 374, ..., 373, 374, 373],\n",
       "        [376, 376, 375, ..., 375, 376, 375]], dtype=uint16)}"
      ]
     },
     "execution_count": 3,
     "metadata": {},
     "output_type": "execute_result"
    }
   ],
   "source": [
    "imuRaw"
   ]
  },
  {
   "cell_type": "code",
   "execution_count": null,
   "metadata": {},
   "outputs": [],
   "source": []
  }
 ],
 "metadata": {
  "kernelspec": {
   "display_name": "Python 3",
   "language": "python",
   "name": "python3"
  },
  "language_info": {
   "codemirror_mode": {
    "name": "ipython",
    "version": 3
   },
   "file_extension": ".py",
   "mimetype": "text/x-python",
   "name": "python",
   "nbconvert_exporter": "python",
   "pygments_lexer": "ipython3",
   "version": "3.6.4"
  }
 },
 "nbformat": 4,
 "nbformat_minor": 2
}
