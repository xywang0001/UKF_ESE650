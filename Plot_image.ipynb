{
 "cells": [
  {
   "cell_type": "code",
   "execution_count": 3,
   "metadata": {},
   "outputs": [],
   "source": [
    "import matplotlib.pyplot as plt\n",
    "from estimate_rot import *\n",
    "from scipy import io\n",
    "import time"
   ]
  },
  {
   "cell_type": "code",
   "execution_count": 4,
   "metadata": {},
   "outputs": [
    {
     "name": "stdout",
     "output_type": "stream",
     "text": [
      "-17.868412971496582\n"
     ]
    }
   ],
   "source": [
    "time_start = time.time()\n",
    "roll, pitch, yaw = estimate_rot(1)\n",
    "time_end = time.time()\n",
    "print (time_start - time_end)"
   ]
  },
  {
   "cell_type": "code",
   "execution_count": 51,
   "metadata": {},
   "outputs": [
    {
     "data": {
      "text/plain": [
       "array([ 4.61428922e-05, -4.01625465e-05,  2.04706424e-05, ...,\n",
       "        8.70376088e-03,  8.74559565e-03,  8.66220474e-03])"
      ]
     },
     "execution_count": 51,
     "metadata": {},
     "output_type": "execute_result"
    }
   ],
   "source": [
    "roll"
   ]
  },
  {
   "cell_type": "code",
   "execution_count": 6,
   "metadata": {},
   "outputs": [],
   "source": [
    "a = len(roll)"
   ]
  },
  {
   "cell_type": "code",
   "execution_count": 7,
   "metadata": {},
   "outputs": [
    {
     "data": {
      "text/plain": [
       "5645"
      ]
     },
     "execution_count": 7,
     "metadata": {},
     "output_type": "execute_result"
    }
   ],
   "source": [
    "a"
   ]
  },
  {
   "cell_type": "code",
   "execution_count": 8,
   "metadata": {},
   "outputs": [],
   "source": [
    "b = len(pitch)"
   ]
  },
  {
   "cell_type": "code",
   "execution_count": 9,
   "metadata": {},
   "outputs": [
    {
     "data": {
      "text/plain": [
       "5645"
      ]
     },
     "execution_count": 9,
     "metadata": {},
     "output_type": "execute_result"
    }
   ],
   "source": [
    "b"
   ]
  },
  {
   "cell_type": "code",
   "execution_count": 10,
   "metadata": {},
   "outputs": [],
   "source": [
    "filename = \"vicon/viconRot1.mat\""
   ]
  },
  {
   "cell_type": "code",
   "execution_count": 11,
   "metadata": {},
   "outputs": [],
   "source": [
    "vicon_raw = io.loadmat(filename)"
   ]
  },
  {
   "cell_type": "code",
   "execution_count": 12,
   "metadata": {},
   "outputs": [
    {
     "data": {
      "text/plain": [
       "{'__globals__': [],\n",
       " '__header__': b'MATLAB 5.0 MAT-file, Platform: GLNXA64, Created on: Wed Feb  2 12:57:59 2011',\n",
       " '__version__': '1.0',\n",
       " 'rots': array([[[ 0.99992633,  0.99986318,  0.99991805, ...,  0.99953676,\n",
       "           0.99949541,  0.99953609],\n",
       "         [-0.00453991, -0.00420982, -0.00471697, ..., -0.0303378 ,\n",
       "          -0.02996551, -0.03035833],\n",
       "         [-0.01125718, -0.01599676, -0.01190115, ..., -0.00242508,\n",
       "          -0.0105351 , -0.00244617]],\n",
       " \n",
       "        [[ 0.00455797,  0.00422815,  0.00473711, ...,  0.03032446,\n",
       "           0.0299045 ,  0.03034568],\n",
       "         [ 0.99998837,  0.99999044,  0.9999874 , ...,  0.99952572,\n",
       "           0.99953534,  0.99952669],\n",
       "         [ 0.00157913,  0.00111227,  0.00166397, ..., -0.00536339,\n",
       "          -0.00590162, -0.0050531 ]],\n",
       " \n",
       "        [[ 0.01124988,  0.01599193,  0.01189315, ...,  0.00258665,\n",
       "           0.01070705,  0.00259842],\n",
       "         [-0.00163033, -0.00117976, -0.00172021, ...,  0.00528737,\n",
       "           0.00558359,  0.00497653],\n",
       "         [ 0.99993539,  0.99987142,  0.99992779, ...,  0.99998268,\n",
       "           0.99992709,  0.99998424]]]),\n",
       " 'ts': array([[1.29663678e+09, 1.29663678e+09, 1.29663678e+09, ...,\n",
       "         1.29663684e+09, 1.29663684e+09, 1.29663684e+09]])}"
      ]
     },
     "execution_count": 12,
     "metadata": {},
     "output_type": "execute_result"
    }
   ],
   "source": [
    "vicon_raw"
   ]
  },
  {
   "cell_type": "code",
   "execution_count": 13,
   "metadata": {},
   "outputs": [],
   "source": [
    "vicon_ts = vicon_raw[\"ts\"]"
   ]
  },
  {
   "cell_type": "code",
   "execution_count": 18,
   "metadata": {},
   "outputs": [
    {
     "data": {
      "text/plain": [
       "array([[1.29663678e+09, 1.29663678e+09, 1.29663678e+09, ...,\n",
       "        1.29663684e+09, 1.29663684e+09, 1.29663684e+09]])"
      ]
     },
     "execution_count": 18,
     "metadata": {},
     "output_type": "execute_result"
    }
   ],
   "source": [
    "vicon_ts"
   ]
  },
  {
   "cell_type": "code",
   "execution_count": 21,
   "metadata": {},
   "outputs": [
    {
     "data": {
      "text/plain": [
       "5561"
      ]
     },
     "execution_count": 21,
     "metadata": {},
     "output_type": "execute_result"
    }
   ],
   "source": [
    "a = len(vicon_ts[0])\n",
    "a"
   ]
  },
  {
   "cell_type": "code",
   "execution_count": 27,
   "metadata": {},
   "outputs": [],
   "source": [
    "vicon_rots = np.array(vicon_raw[\"rots\"])"
   ]
  },
  {
   "cell_type": "code",
   "execution_count": 30,
   "metadata": {},
   "outputs": [
    {
     "data": {
      "text/plain": [
       "array([[[ 0.99992633,  0.99986318,  0.99991805, ...,  0.99953676,\n",
       "          0.99949541,  0.99953609],\n",
       "        [-0.00453991, -0.00420982, -0.00471697, ..., -0.0303378 ,\n",
       "         -0.02996551, -0.03035833],\n",
       "        [-0.01125718, -0.01599676, -0.01190115, ..., -0.00242508,\n",
       "         -0.0105351 , -0.00244617]],\n",
       "\n",
       "       [[ 0.00455797,  0.00422815,  0.00473711, ...,  0.03032446,\n",
       "          0.0299045 ,  0.03034568],\n",
       "        [ 0.99998837,  0.99999044,  0.9999874 , ...,  0.99952572,\n",
       "          0.99953534,  0.99952669],\n",
       "        [ 0.00157913,  0.00111227,  0.00166397, ..., -0.00536339,\n",
       "         -0.00590162, -0.0050531 ]],\n",
       "\n",
       "       [[ 0.01124988,  0.01599193,  0.01189315, ...,  0.00258665,\n",
       "          0.01070705,  0.00259842],\n",
       "        [-0.00163033, -0.00117976, -0.00172021, ...,  0.00528737,\n",
       "          0.00558359,  0.00497653],\n",
       "        [ 0.99993539,  0.99987142,  0.99992779, ...,  0.99998268,\n",
       "          0.99992709,  0.99998424]]])"
      ]
     },
     "execution_count": 30,
     "metadata": {},
     "output_type": "execute_result"
    }
   ],
   "source": [
    "vicon_rots"
   ]
  },
  {
   "cell_type": "code",
   "execution_count": 33,
   "metadata": {},
   "outputs": [
    {
     "data": {
      "text/plain": [
       "array([[ 0.99953609, -0.03035833, -0.00244617],\n",
       "       [ 0.03034568,  0.99952669, -0.0050531 ],\n",
       "       [ 0.00259842,  0.00497653,  0.99998424]])"
      ]
     },
     "execution_count": 33,
     "metadata": {},
     "output_type": "execute_result"
    }
   ],
   "source": [
    "vicon_rots[:,:,5560]"
   ]
  },
  {
   "cell_type": "code",
   "execution_count": 34,
   "metadata": {},
   "outputs": [],
   "source": [
    "\n",
    "def rotation_to_Euler(Rots):\n",
    "\n",
    "\n",
    "\n",
    "    N = Rots.shape[2]\n",
    "\n",
    "    Eulers = np.zeros((3, 0))\n",
    "\n",
    "\n",
    "\n",
    "    for i in range(N):\n",
    "\n",
    "        R = Rots[:, :, i]\n",
    "\n",
    "\n",
    "\n",
    "        sy = np.sqrt(R[0, 0] * R[0, 0] + R[1, 0] * R[1, 0])\n",
    "\n",
    "\n",
    "\n",
    "        singular = sy < 1e-6\n",
    "\n",
    "\n",
    "\n",
    "        if not singular:\n",
    "\n",
    "            x = np.arctan2(R[2, 1], R[2, 2])\n",
    "\n",
    "            y = np.arctan2(-R[2, 0], sy)\n",
    "\n",
    "            z = np.arctan2(R[1, 0], R[0, 0])\n",
    "\n",
    "        else:\n",
    "\n",
    "            x = np.arctan2(-R[1, 2], R[1, 1])\n",
    "\n",
    "            y = np.arctan2(-R[2, 0], sy)\n",
    "\n",
    "            z = 0\n",
    "\n",
    "\n",
    "\n",
    "        euler = np.array([[x], [y], [z]])\n",
    "\n",
    "        Eulers = np.concatenate((Eulers, euler), axis=1)\n",
    "\n",
    "\n",
    "\n",
    "    return Eulers"
   ]
  },
  {
   "cell_type": "code",
   "execution_count": 36,
   "metadata": {},
   "outputs": [],
   "source": [
    "e = rotation_to_Euler(vicon_rots)"
   ]
  },
  {
   "cell_type": "code",
   "execution_count": 37,
   "metadata": {},
   "outputs": [
    {
     "data": {
      "text/plain": [
       "array([[-0.00163043, -0.00117991, -0.00172034, ...,  0.00528741,\n",
       "         0.00558394,  0.00497656],\n",
       "       [-0.01125011, -0.01599261, -0.01189343, ..., -0.00258665,\n",
       "        -0.01070725, -0.00259842],\n",
       "       [ 0.00455827,  0.0042287 ,  0.00473746, ...,  0.03032921,\n",
       "         0.02991068,  0.03035044]])"
      ]
     },
     "execution_count": 37,
     "metadata": {},
     "output_type": "execute_result"
    }
   ],
   "source": [
    "e"
   ]
  },
  {
   "cell_type": "code",
   "execution_count": 44,
   "metadata": {},
   "outputs": [
    {
     "data": {
      "text/plain": [
       "[<matplotlib.lines.Line2D at 0x1cb4cfac978>]"
      ]
     },
     "execution_count": 44,
     "metadata": {},
     "output_type": "execute_result"
    },
    {
     "data": {
      "image/png": "[encoded data removed]",
      "text/plain": [
       "<matplotlib.figure.Figure at 0x1cb4cf61438>"
      ]
     },
     "metadata": {},
     "output_type": "display_data"
    }
   ],
   "source": [
    "plt.plot(e[0])"
   ]
  },
  {
   "cell_type": "code",
   "execution_count": 46,
   "metadata": {},
   "outputs": [
    {
     "data": {
      "text/plain": [
       "[<matplotlib.lines.Line2D at 0x1cb4d06e0f0>]"
      ]
     },
     "execution_count": 46,
     "metadata": {},
     "output_type": "execute_result"
    },
    {
     "data": {
      "image/png": "[encoded data removed]",
      "text/plain": [
       "<matplotlib.figure.Figure at 0x1cb4cfea2e8>"
      ]
     },
     "metadata": {},
     "output_type": "display_data"
    }
   ],
   "source": [
    "plt.plot(roll)"
   ]
  },
  {
   "cell_type": "code",
   "execution_count": 48,
   "metadata": {},
   "outputs": [
    {
     "data": {
      "text/plain": [
       "[<matplotlib.lines.Line2D at 0x1cb4d131898>]"
      ]
     },
     "execution_count": 48,
     "metadata": {},
     "output_type": "execute_result"
    },
    {
     "data": {
      "image/png": "[encoded data removed]",
      "text/plain": [
       "<matplotlib.figure.Figure at 0x1cb4d0b9400>"
      ]
     },
     "metadata": {},
     "output_type": "display_data"
    }
   ],
   "source": [
    "plt.figure(num=3,figsize=(8,5))\n",
    "plt.plot(pitch)\n",
    "plt.plot(e[1])\n"
   ]
  },
  {
   "cell_type": "code",
   "execution_count": null,
   "metadata": {},
   "outputs": [],
   "source": []
  }
 ],
 "metadata": {
  "kernelspec": {
   "display_name": "Python 3",
   "language": "python",
   "name": "python3"
  },
  "language_info": {
   "codemirror_mode": {
    "name": "ipython",
    "version": 3
   },
   "file_extension": ".py",
   "mimetype": "text/x-python",
   "name": "python",
   "nbconvert_exporter": "python",
   "pygments_lexer": "ipython3",
   "version": "3.6.4"
  }
 },
 "nbformat": 4,
 "nbformat_minor": 2
}
